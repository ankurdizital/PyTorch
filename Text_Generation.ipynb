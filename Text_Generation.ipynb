{
 "cells": [
  {
   "cell_type": "markdown",
   "metadata": {},
   "source": [
    "## Prepare data"
   ]
  },
  {
   "cell_type": "code",
   "execution_count": 3,
   "metadata": {},
   "outputs": [],
   "source": [
    "import unidecode\n",
    "import string\n",
    "import random\n",
    "import torch"
   ]
  },
  {
   "cell_type": "code",
   "execution_count": 5,
   "metadata": {},
   "outputs": [],
   "source": [
    "all_characters=string.printable"
   ]
  },
  {
   "cell_type": "code",
   "execution_count": 6,
   "metadata": {},
   "outputs": [
    {
     "data": {
      "text/plain": [
       "'0123456789abcdefghijklmnopqrstuvwxyzABCDEFGHIJKLMNOPQRSTUVWXYZ!\"#$%&\\'()*+,-./:;<=>?@[\\\\]^_`{|}~ \\t\\n\\r\\x0b\\x0c'"
      ]
     },
     "execution_count": 6,
     "metadata": {},
     "output_type": "execute_result"
    }
   ],
   "source": [
    "all_characters"
   ]
  },
  {
   "cell_type": "code",
   "execution_count": 7,
   "metadata": {},
   "outputs": [
    {
     "data": {
      "text/plain": [
       "100"
      ]
     },
     "execution_count": 7,
     "metadata": {},
     "output_type": "execute_result"
    }
   ],
   "source": [
    "n_characters=len(all_characters)\n",
    "n_characters"
   ]
  },
  {
   "cell_type": "code",
   "execution_count": 114,
   "metadata": {},
   "outputs": [],
   "source": [
    "file=unidecode.unidecode(open('cg.txt').read())"
   ]
  },
  {
   "cell_type": "code",
   "execution_count": 115,
   "metadata": {},
   "outputs": [
    {
     "name": "stdout",
     "output_type": "stream",
     "text": [
      "file_len 117135\n"
     ]
    }
   ],
   "source": [
    "file_len=len(file)\n",
    "print('file_len',file_len)"
   ]
  },
  {
   "cell_type": "markdown",
   "metadata": {},
   "source": [
    "Making input into chunks"
   ]
  },
  {
   "cell_type": "code",
   "execution_count": 116,
   "metadata": {},
   "outputs": [
    {
     "name": "stdout",
     "output_type": "stream",
     "text": [
      "untable Opportunity.\"\n",
      "\n",
      "\"It Is Like Drinking From A Firehose.\"\n",
      "\n",
      "\"Be Sure To Have YOUR Messages `Netiquette Approved.'\"\n",
      "\n",
      "\n",
      "These sentiments reflect a portion of the Internet who\n",
      "have terrified thoughts an\n"
     ]
    }
   ],
   "source": [
    "chunk_len=200\n",
    "\n",
    "def random_chunk():\n",
    "    start_index=random.randint(0,file_len-chunk_len)\n",
    "    end_index=start_index+chunk_len+1\n",
    "    return file[start_index:end_index]\n",
    "print(random_chunk())"
   ]
  },
  {
   "cell_type": "markdown",
   "metadata": {},
   "source": [
    "## Build the Model"
   ]
  },
  {
   "cell_type": "code",
   "execution_count": 156,
   "metadata": {},
   "outputs": [],
   "source": [
    "import torch\n",
    "import torch.nn as nn\n",
    "\n",
    "class RNN(nn.Module):\n",
    "    def __init__(self,input_size,hidden_size,output_size,n_layers=1):\n",
    "        super().__init__()\n",
    "        self.input_size=input_size\n",
    "        self.hidden_size=hidden_size\n",
    "        self.output_size=output_size\n",
    "        self.n_layers=n_layers\n",
    "        self.encoder=nn.Embedding(input_size,hidden_size)\n",
    "        self.gru=nn.GRU(hidden_size,hidden_size,n_layers)\n",
    "        self.decoder=nn.Linear(hidden_size,output_size)\n",
    "        \n",
    "    def forward(self,input,hidden):\n",
    "        input=self.encoder(input.reshape(1,-1))\n",
    "        output,hidden=self.gru(input.reshape(1,1,-1),hidden)\n",
    "        output=self.decoder(output.reshape(1,-1))\n",
    "        return output,hidden\n",
    "    \n",
    "    def init_hidden(self):\n",
    "        return torch.zeros(self.n_layers,1,self.hidden_size)"
   ]
  },
  {
   "cell_type": "markdown",
   "metadata": {},
   "source": [
    "## Inputs and Targets"
   ]
  },
  {
   "cell_type": "code",
   "execution_count": 157,
   "metadata": {},
   "outputs": [
    {
     "name": "stdout",
     "output_type": "stream",
     "text": [
      "tensor([10, 11, 12, 39, 40, 41])\n"
     ]
    }
   ],
   "source": [
    "#Turning string into list of longs\n",
    "def char_tensor(string):\n",
    "    tensor=torch.zeros(len(string),dtype=torch.int64)\n",
    "    for c in range(len(string)):\n",
    "        tensor[c]=all_characters.index(string[c])\n",
    "    return tensor\n",
    "print(char_tensor('abcDEF'))"
   ]
  },
  {
   "cell_type": "code",
   "execution_count": 158,
   "metadata": {},
   "outputs": [],
   "source": [
    "def random_training_set():\n",
    "    chunk=random_chunk()\n",
    "    inp=char_tensor(chunk[:-1])\n",
    "    target=char_tensor(chunk[1:])\n",
    "    return inp,target"
   ]
  },
  {
   "cell_type": "markdown",
   "metadata": {},
   "source": [
    "## Training"
   ]
  },
  {
   "cell_type": "code",
   "execution_count": 164,
   "metadata": {},
   "outputs": [],
   "source": [
    "#Setting Hyperparameter\n",
    "n_epochs=2000\n",
    "hidden_size=100\n",
    "n_layers=1\n",
    "lr=0.005\n",
    "\n",
    "\n",
    "#calling model\n",
    "model=RNN(n_characters,hidden_size,n_characters,n_layers)\n",
    "optimizer=torch.optim.Adam(model.parameters(),lr=lr)\n",
    "criterion=nn.CrossEntropyLoss()\n",
    "\n",
    "\n",
    "\n",
    "\n",
    "#Iteration for learning\n",
    "for epoch in range(n_epochs+1):\n",
    "    inp,label=random_training_set()\n",
    "    hidden=model.init_hidden()\n",
    "    optimizer.zero_grad()\n",
    "    loss=0\n",
    "    for c in range(chunk_len):\n",
    "        output,hidden=model(inp[c],hidden)\n",
    "        loss+=criterion(output,label[c].reshape(-1))\n",
    "    loss.backward()\n",
    "    optimizer.step()\n",
    "        \n"
   ]
  },
  {
   "cell_type": "markdown",
   "metadata": {},
   "source": [
    "## Evaluating "
   ]
  },
  {
   "cell_type": "code",
   "execution_count": 160,
   "metadata": {},
   "outputs": [],
   "source": [
    "def evaluate(prime_str='A',predict_len=100,temperature=0.8):\n",
    "    hidden=model.init_hidden()\n",
    "    prime_input=char_tensor(prime_str)\n",
    "    predicted=prime_str\n",
    "    \n",
    "    \n",
    "    ###Using priming string to 'build up' hidden state\n",
    "    for p in range(len(prime_str)-1):\n",
    "        _,hidden=model(prime_input[p],hidden)\n",
    "    inp=prime_input[-1]\n",
    "    \n",
    "    for p in range(predict_len):\n",
    "        output,hidden=model(inp,hidden)\n",
    "        \n",
    "        #Sample from the network as a multinomial distribution\n",
    "        output_dist=output.data.reshape(-1).div(temperature).exp()\n",
    "        top_i=torch.multinomial(output_dist,1)[0]\n",
    "        \n",
    "        #Add predicted character to string and use as next input \n",
    "        predicted_char=all_characters[top_i]\n",
    "        predicted+=predicted_char\n",
    "        inp=char_tensor(predicted_char)\n",
    "        \n",
    "    return predicted"
   ]
  },
  {
   "cell_type": "code",
   "execution_count": 174,
   "metadata": {},
   "outputs": [
    {
     "name": "stdout",
     "output_type": "stream",
     "text": [
      "Gutenberg-tm tradement to person of the for the to light reted to the never the price the for and the \n"
     ]
    }
   ],
   "source": [
    "print(evaluate('Gu',100,temperature=0.4))"
   ]
  },
  {
   "cell_type": "code",
   "execution_count": null,
   "metadata": {},
   "outputs": [],
   "source": []
  }
 ],
 "metadata": {
  "kernelspec": {
   "display_name": "Python 3",
   "language": "python",
   "name": "python3"
  },
  "language_info": {
   "codemirror_mode": {
    "name": "ipython",
    "version": 3
   },
   "file_extension": ".py",
   "mimetype": "text/x-python",
   "name": "python",
   "nbconvert_exporter": "python",
   "pygments_lexer": "ipython3",
   "version": "3.6.5"
  }
 },
 "nbformat": 4,
 "nbformat_minor": 2
}
